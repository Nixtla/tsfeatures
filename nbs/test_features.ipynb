{
 "cells": [
  {
   "cell_type": "code",
   "execution_count": null,
   "metadata": {},
   "outputs": [
    {
     "name": "stdout",
     "output_type": "stream",
     "text": [
      "The autoreload extension is already loaded. To reload it, use:\n",
      "  %reload_ext autoreload\n"
     ]
    }
   ],
   "source": [
    "%load_ext autoreload\n",
    "%autoreload 2"
   ]
  },
  {
   "cell_type": "code",
   "execution_count": null,
   "metadata": {},
   "outputs": [],
   "source": [
    "from tsfeatures.features import *\n",
    "from tsfeatures.m4_data import *\n",
    "from tsfeatures.tsfeatures import *\n",
    "from tsfeatures.utils import *"
   ]
  },
  {
   "cell_type": "code",
   "execution_count": null,
   "metadata": {},
   "outputs": [],
   "source": [
    "def test_pipeline():\n",
    "    def calculate_features_m4(dataset_name, directory, num_obs=1000000):\n",
    "        _, y_train_df, _, _ = prepare_m4_data(\n",
    "            dataset_name=dataset_name, directory=directory, num_obs=num_obs\n",
    "        )\n",
    "\n",
    "        freq = FREQS[dataset_name[0]]\n",
    "\n",
    "        py_feats = tsfeatures(\n",
    "            y_train_df, freq=freq, features=[count_entropy]\n",
    "        ).set_index(\"unique_id\")\n",
    "\n",
    "    calculate_features_m4(\"Hourly\", \"data\", 100)\n",
    "    calculate_features_m4(\"Daily\", \"data\", 100)"
   ]
  },
  {
   "cell_type": "code",
   "execution_count": null,
   "metadata": {},
   "outputs": [
    {
     "name": "stdout",
     "output_type": "stream",
     "text": [
      "\n",
      "\n"
     ]
    },
    {
     "name": "stdout",
     "output_type": "stream",
     "text": [
      "Unexpected exception formatting exception. Falling back to standard exception\n"
     ]
    },
    {
     "name": "stderr",
     "output_type": "stream",
     "text": [
      "Traceback (most recent call last):\n",
      "  File \"/Users/JdeTheije/mambaforge/envs/nbdev/lib/python3.10/site-packages/IPython/core/interactiveshell.py\", line 3526, in run_code\n",
      "    exec(code_obj, self.user_global_ns, self.user_ns)\n",
      "  File \"/var/folders/ny/_85npg2s1j3_clzbjzxsshn80000gp/T/ipykernel_28927/253115070.py\", line 1, in <module>\n",
      "    test_pipeline()\n",
      "  File \"/var/folders/ny/_85npg2s1j3_clzbjzxsshn80000gp/T/ipykernel_28927/632637266.py\", line 13, in test_pipeline\n",
      "    calculate_features_m4(\"Hourly\", \"data\", 100)\n",
      "  File \"/var/folders/ny/_85npg2s1j3_clzbjzxsshn80000gp/T/ipykernel_28927/632637266.py\", line 9, in calculate_features_m4\n",
      "    py_feats = tsfeatures(\n",
      "  File \"/Users/JdeTheije/Developer/github_juicetea/nbdev_port/tsfeatures_nbdev/tsfeatures/tsfeatures.py\", line 147, in tsfeatures\n",
      "    ts_features = pool.starmap(partial_get_feats, ts.groupby(\"unique_id\"))\n",
      "  File \"/Users/JdeTheije/mambaforge/envs/nbdev/lib/python3.10/multiprocessing/pool.py\", line 375, in starmap\n",
      "    return self._map_async(func, iterable, starmapstar, chunksize).get()\n",
      "  File \"/Users/JdeTheije/mambaforge/envs/nbdev/lib/python3.10/multiprocessing/pool.py\", line 774, in get\n",
      "    raise self._value\n",
      "  File \"/Users/JdeTheije/mambaforge/envs/nbdev/lib/python3.10/multiprocessing/pool.py\", line 540, in _handle_tasks\n",
      "    put(task)\n",
      "  File \"/Users/JdeTheije/mambaforge/envs/nbdev/lib/python3.10/multiprocessing/connection.py\", line 206, in send\n",
      "    self._send_bytes(_ForkingPickler.dumps(obj))\n",
      "  File \"/Users/JdeTheije/mambaforge/envs/nbdev/lib/python3.10/multiprocessing/reduction.py\", line 51, in dumps\n",
      "    cls(buf, protocol).dump(obj)\n",
      "_pickle.PicklingError: Can't pickle <function count_entropy>: it's not the same object as tsfeatures.features.count_entropy\n",
      "\n",
      "During handling of the above exception, another exception occurred:\n",
      "\n",
      "Traceback (most recent call last):\n",
      "  File \"/Users/JdeTheije/mambaforge/envs/nbdev/lib/python3.10/site-packages/IPython/core/interactiveshell.py\", line 2120, in showtraceback\n",
      "    stb = self.InteractiveTB.structured_traceback(\n",
      "  File \"/Users/JdeTheije/mambaforge/envs/nbdev/lib/python3.10/site-packages/IPython/core/ultratb.py\", line 1435, in structured_traceback\n",
      "    return FormattedTB.structured_traceback(\n",
      "  File \"/Users/JdeTheije/mambaforge/envs/nbdev/lib/python3.10/site-packages/IPython/core/ultratb.py\", line 1326, in structured_traceback\n",
      "    return VerboseTB.structured_traceback(\n",
      "  File \"/Users/JdeTheije/mambaforge/envs/nbdev/lib/python3.10/site-packages/IPython/core/ultratb.py\", line 1173, in structured_traceback\n",
      "    formatted_exception = self.format_exception_as_a_whole(etype, evalue, etb, number_of_lines_of_context,\n",
      "  File \"/Users/JdeTheije/mambaforge/envs/nbdev/lib/python3.10/site-packages/IPython/core/ultratb.py\", line 1088, in format_exception_as_a_whole\n",
      "    frames.append(self.format_record(record))\n",
      "  File \"/Users/JdeTheije/mambaforge/envs/nbdev/lib/python3.10/site-packages/IPython/core/ultratb.py\", line 970, in format_record\n",
      "    frame_info.lines, Colors, self.has_colors, lvals\n",
      "  File \"/Users/JdeTheije/mambaforge/envs/nbdev/lib/python3.10/site-packages/IPython/core/ultratb.py\", line 792, in lines\n",
      "    return self._sd.lines\n",
      "  File \"/Users/JdeTheije/mambaforge/envs/nbdev/lib/python3.10/site-packages/stack_data/utils.py\", line 145, in cached_property_wrapper\n",
      "    value = obj.__dict__[self.func.__name__] = self.func(obj)\n",
      "  File \"/Users/JdeTheije/mambaforge/envs/nbdev/lib/python3.10/site-packages/stack_data/core.py\", line 698, in lines\n",
      "    pieces = self.included_pieces\n",
      "  File \"/Users/JdeTheije/mambaforge/envs/nbdev/lib/python3.10/site-packages/stack_data/utils.py\", line 145, in cached_property_wrapper\n",
      "    value = obj.__dict__[self.func.__name__] = self.func(obj)\n",
      "  File \"/Users/JdeTheije/mambaforge/envs/nbdev/lib/python3.10/site-packages/stack_data/core.py\", line 649, in included_pieces\n",
      "    pos = scope_pieces.index(self.executing_piece)\n",
      "  File \"/Users/JdeTheije/mambaforge/envs/nbdev/lib/python3.10/site-packages/stack_data/utils.py\", line 145, in cached_property_wrapper\n",
      "    value = obj.__dict__[self.func.__name__] = self.func(obj)\n",
      "  File \"/Users/JdeTheije/mambaforge/envs/nbdev/lib/python3.10/site-packages/stack_data/core.py\", line 628, in executing_piece\n",
      "    return only(\n",
      "  File \"/Users/JdeTheije/mambaforge/envs/nbdev/lib/python3.10/site-packages/executing/executing.py\", line 164, in only\n",
      "    raise NotOneValueFound('Expected one value, found 0')\n",
      "executing.executing.NotOneValueFound: Expected one value, found 0\n"
     ]
    }
   ],
   "source": [
    "test_pipeline()"
   ]
  },
  {
   "cell_type": "code",
   "execution_count": null,
   "metadata": {},
   "outputs": [],
   "source": []
  }
 ],
 "metadata": {
  "kernelspec": {
   "display_name": "python3",
   "language": "python",
   "name": "python3"
  }
 },
 "nbformat": 4,
 "nbformat_minor": 2
}
