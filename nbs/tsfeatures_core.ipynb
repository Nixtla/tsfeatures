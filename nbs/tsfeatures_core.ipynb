{
 "cells": [
  {
   "cell_type": "markdown",
   "metadata": {},
   "source": [
    "# core\n",
    "\n",
    "> Fill in a module description here"
   ]
  },
  {
   "cell_type": "code",
   "execution_count": null,
   "metadata": {},
   "outputs": [],
   "source": [
    "# |default_exp tsfeatures"
   ]
  },
  {
   "cell_type": "code",
   "execution_count": null,
   "metadata": {},
   "outputs": [
    {
     "name": "stdout",
     "output_type": "stream",
     "text": [
      "The autoreload extension is already loaded. To reload it, use:\n",
      "  %reload_ext autoreload\n"
     ]
    }
   ],
   "source": [
    "%load_ext autoreload\n",
    "%autoreload 2"
   ]
  },
  {
   "cell_type": "code",
   "execution_count": null,
   "metadata": {},
   "outputs": [],
   "source": [
    "# |export\n",
    "import os\n",
    "import warnings"
   ]
  },
  {
   "cell_type": "code",
   "execution_count": null,
   "metadata": {},
   "outputs": [],
   "source": [
    "# |export\n",
    "\n",
    "warnings.warn = lambda *a, **kw: False\n",
    "\n",
    "os.environ[\"MKL_NUM_THREADS\"] = \"1\"\n",
    "os.environ[\"NUMEXPR_NUM_THREADS\"] = \"1\"\n",
    "os.environ[\"OMP_NUM_THREADS\"] = \"1\""
   ]
  },
  {
   "cell_type": "code",
   "execution_count": null,
   "metadata": {},
   "outputs": [],
   "source": [
    "# |export\n",
    "\n",
    "from collections import ChainMap\n",
    "from functools import partial\n",
    "from multiprocessing import Pool\n",
    "from typing import Callable, Dict, List, Optional\n",
    "\n",
    "import pandas as pd\n",
    "\n",
    "from tsfeatures.features import *\n",
    "from tsfeatures.utils import *"
   ]
  },
  {
   "cell_type": "code",
   "execution_count": null,
   "metadata": {},
   "outputs": [],
   "source": [
    "# |export\n",
    "def _get_feats(\n",
    "    index,\n",
    "    ts,\n",
    "    freq,\n",
    "    scale=True,\n",
    "    features=[\n",
    "        acf_features,\n",
    "        arch_stat,\n",
    "        crossing_points,\n",
    "        entropy,\n",
    "        flat_spots,\n",
    "        heterogeneity,\n",
    "        holt_parameters,\n",
    "        lumpiness,\n",
    "        nonlinearity,\n",
    "        pacf_features,\n",
    "        stl_features,\n",
    "        stability,\n",
    "        hw_parameters,\n",
    "        unitroot_kpss,\n",
    "        unitroot_pp,\n",
    "        series_length,\n",
    "        hurst,\n",
    "    ],\n",
    "    dict_freqs=FREQS,\n",
    "):\n",
    "    print(\"dict_freq\")\n",
    "    if freq is None:\n",
    "        inf_freq = pd.infer_freq(ts[\"ds\"])\n",
    "        if inf_freq is None:\n",
    "            raise Exception(\n",
    "                \"Failed to infer frequency from the `ds` column, \"\n",
    "                \"please provide the frequency using the `freq` argument.\"\n",
    "            )\n",
    "\n",
    "        freq = dict_freqs.get(inf_freq)\n",
    "        if freq is None:\n",
    "            raise Exception(\n",
    "                \"Error trying to convert infered frequency from the `ds` column \"\n",
    "                \"to integer. Please provide a dictionary with that frequency \"\n",
    "                \"as key and the integer frequency as value. \"\n",
    "                f\"Infered frequency: {inf_freq}\"\n",
    "            )\n",
    "\n",
    "    if isinstance(ts, pd.DataFrame):\n",
    "        assert \"y\" in ts.columns\n",
    "        ts = ts[\"y\"].values\n",
    "\n",
    "    if isinstance(ts, pd.Series):\n",
    "        ts = ts.values\n",
    "\n",
    "    if scale:\n",
    "        ts = scalets(ts)\n",
    "\n",
    "    c_map = ChainMap(\n",
    "        *[dict_feat for dict_feat in [func(ts, freq) for func in features]]\n",
    "    )\n",
    "\n",
    "    return pd.DataFrame(dict(c_map), index=[index])"
   ]
  },
  {
   "cell_type": "code",
   "execution_count": null,
   "metadata": {},
   "outputs": [],
   "source": [
    "# |export\n",
    "def tsfeatures(\n",
    "    ts: pd.DataFrame,\n",
    "    freq: Optional[int] = None,\n",
    "    features: List[Callable] = [\n",
    "        acf_features,\n",
    "        arch_stat,\n",
    "        crossing_points,\n",
    "        entropy,\n",
    "        flat_spots,\n",
    "        heterogeneity,\n",
    "        holt_parameters,\n",
    "        lumpiness,\n",
    "        nonlinearity,\n",
    "        pacf_features,\n",
    "        stl_features,\n",
    "        stability,\n",
    "        hw_parameters,\n",
    "        unitroot_kpss,\n",
    "        unitroot_pp,\n",
    "        series_length,\n",
    "        hurst,\n",
    "    ],\n",
    "    dict_freqs: Dict[str, int] = FREQS,\n",
    "    scale: bool = True,\n",
    "    threads: Optional[int] = None,\n",
    ") -> pd.DataFrame:\n",
    "    \"\"\"Calculates features for time series.\n",
    "\n",
    "    Parameters\n",
    "    ----------\n",
    "    ts: pandas df\n",
    "        Pandas DataFrame with columns ['unique_id', 'ds', 'y'].\n",
    "        Long panel of time series.\n",
    "    freq: int\n",
    "        Frequency of the time series. If None the frequency of\n",
    "        each time series is infered and assigns the seasonal periods according to\n",
    "        dict_freqs.\n",
    "    features: iterable\n",
    "        Iterable of features functions.\n",
    "    scale: bool\n",
    "        Whether (mean-std)scale data.\n",
    "    dict_freqs: dict\n",
    "        Dictionary that maps string frequency of int. Ex: {'D': 7, 'W': 1}\n",
    "    threads: int\n",
    "        Number of threads to use. Use None (default) for parallel processing.\n",
    "\n",
    "    Returns\n",
    "    -------\n",
    "    pandas df\n",
    "        Pandas DataFrame where each column is a feature and each row\n",
    "        a time series.\n",
    "    \"\"\"\n",
    "    partial_get_feats = partial(\n",
    "        _get_feats, freq=freq, scale=scale, features=features, dict_freqs=dict_freqs\n",
    "    )\n",
    "\n",
    "    with Pool(threads) as pool:\n",
    "        ts_features = pool.starmap(partial_get_feats, ts.groupby(\"unique_id\"))\n",
    "\n",
    "    ts_features = pd.concat(ts_features).rename_axis(\"unique_id\")\n",
    "    ts_features = ts_features.reset_index()\n",
    "\n",
    "    return ts_features"
   ]
  },
  {
   "cell_type": "code",
   "execution_count": null,
   "metadata": {},
   "outputs": [],
   "source": [
    "# |hide\n",
    "from nbdev.showdoc import *"
   ]
  },
  {
   "cell_type": "code",
   "execution_count": null,
   "metadata": {},
   "outputs": [],
   "source": [
    "# |hide\n",
    "import nbdev\n",
    "\n",
    "nbdev.nbdev_export()"
   ]
  }
 ],
 "metadata": {
  "kernelspec": {
   "display_name": "python3",
   "language": "python",
   "name": "python3"
  }
 },
 "nbformat": 4,
 "nbformat_minor": 4
}
