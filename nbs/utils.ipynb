{
 "cells": [
  {
   "cell_type": "markdown",
   "metadata": {},
   "source": [
    "# utils\n",
    "\n",
    "> supporting utils for tsfeatures"
   ]
  },
  {
   "cell_type": "code",
   "execution_count": null,
   "metadata": {},
   "outputs": [],
   "source": [
    "# |default_exp utils"
   ]
  },
  {
   "cell_type": "code",
   "execution_count": null,
   "metadata": {},
   "outputs": [
    {
     "name": "stdout",
     "output_type": "stream",
     "text": [
      "The autoreload extension is already loaded. To reload it, use:\n",
      "  %reload_ext autoreload\n"
     ]
    }
   ],
   "source": [
    "# |hide\n",
    "%load_ext autoreload\n",
    "%autoreload 2"
   ]
  },
  {
   "cell_type": "code",
   "execution_count": null,
   "metadata": {},
   "outputs": [],
   "source": [
    "# |export\n",
    "import numpy as np\n",
    "import statsmodels.api as sm"
   ]
  },
  {
   "cell_type": "code",
   "execution_count": null,
   "metadata": {},
   "outputs": [],
   "source": [
    "# |hide\n",
    "from fastcore.test import *"
   ]
  },
  {
   "cell_type": "code",
   "execution_count": null,
   "metadata": {},
   "outputs": [
    {
     "data": {
      "text/plain": [
       "{'divide': 'ignore', 'over': 'warn', 'under': 'ignore', 'invalid': 'ignore'}"
      ]
     },
     "execution_count": null,
     "metadata": {},
     "output_type": "execute_result"
    }
   ],
   "source": [
    "# |export\n",
    "np.seterr(divide=\"ignore\", invalid=\"ignore\")"
   ]
  },
  {
   "cell_type": "code",
   "execution_count": null,
   "metadata": {},
   "outputs": [],
   "source": [
    "# |export\n",
    "FREQS = {\"H\": 24, \"D\": 1, \"M\": 12, \"Q\": 4, \"W\": 1, \"Y\": 1}"
   ]
  },
  {
   "cell_type": "code",
   "execution_count": null,
   "metadata": {},
   "outputs": [],
   "source": [
    "# |export\n",
    "def scalets(x: np.array) -> np.array:\n",
    "    \"\"\"Mean-std scale a time series.\n",
    "\n",
    "    Scales the time series x by removing the mean and dividing by the standard deviation.\n",
    "\n",
    "    Parameters\n",
    "    ----------\n",
    "    x : np.array\n",
    "        The input time series data.\n",
    "\n",
    "    Returns\n",
    "    -------\n",
    "    np.array\n",
    "        The scaled time series values.\n",
    "    \"\"\"\n",
    "    return (x - x.mean()) / x.std(ddof=1)"
   ]
  },
  {
   "cell_type": "code",
   "execution_count": null,
   "metadata": {},
   "outputs": [],
   "source": [
    "# |export\n",
    "def poly(x: np.array, p: int) -> np.array:\n",
    "    \"\"\"Returns or evaluates orthogonal polynomials of degree 1 to degree over the\n",
    "       specified set of points x:\n",
    "       these are all orthogonal to the constant polynomial of degree 0.\n",
    "\n",
    "    Parameters\n",
    "    ----------\n",
    "    x: numpy array\n",
    "        Time series.\n",
    "    p: int\n",
    "        Degree of the polynomial.\n",
    "\n",
    "    References\n",
    "    ----------\n",
    "    https://www.rdocumentation.org/packages/stats/versions/3.6.2/topics/poly\n",
    "    \"\"\"\n",
    "    X = np.transpose(np.vstack([x**k for k in range(p + 1)]))\n",
    "\n",
    "    return np.linalg.qr(X)[0][:, 1:]"
   ]
  },
  {
   "cell_type": "code",
   "execution_count": null,
   "metadata": {},
   "outputs": [],
   "source": [
    "# |export\n",
    "def embed(x: np.array, p: int) -> np.array:\n",
    "    \"\"\"Embeds the time series x into a low-dimensional Euclidean space.\n",
    "\n",
    "    Parameters\n",
    "    ----------\n",
    "    x: numpy array\n",
    "        Time series.\n",
    "    p: int\n",
    "        Embedding dimension.\n",
    "\n",
    "    References\n",
    "    ----------\n",
    "    https://www.rdocumentation.org/packages/stats/versions/3.6.2/topics/embed\n",
    "    \"\"\"\n",
    "    x = np.transpose(np.vstack([np.roll(x, k) for k in range(p)]))\n",
    "    return x[p - 1 :]"
   ]
  },
  {
   "cell_type": "code",
   "execution_count": null,
   "metadata": {},
   "outputs": [],
   "source": [
    "# |export\n",
    "def terasvirta_test(x: np.array, lag: int = 1, scale: bool = True) -> float:\n",
    "    \"\"\"Generically computes Teraesvirta's neural network test for neglected\n",
    "       nonlinearity either for the time series x or the regression y~x.\n",
    "\n",
    "    Parameters\n",
    "    ----------\n",
    "    x: numpy array\n",
    "        Time series.\n",
    "    lag: int\n",
    "        Specifies the model order in terms of lags.\n",
    "    scale: bool\n",
    "        Whether the data should be scaled before computing the test.\n",
    "\n",
    "    Returns\n",
    "    -------\n",
    "    float\n",
    "        Terasvirta statistic.\n",
    "\n",
    "    References\n",
    "    ----------\n",
    "    https://www.rdocumentation.org/packages/tseries/versions/0.10-47/topics/terasvirta.test\n",
    "    \"\"\"\n",
    "    if scale:\n",
    "        x = scalets(x)\n",
    "\n",
    "    size_x = len(x)\n",
    "    y = embed(x, lag + 1)\n",
    "\n",
    "    X = y[:, 1:]\n",
    "    X = sm.add_constant(X)\n",
    "\n",
    "    y = y[:, 0]\n",
    "\n",
    "    ols = sm.OLS(y, X).fit()\n",
    "\n",
    "    u = ols.resid\n",
    "    ssr0 = (u**2).sum()\n",
    "\n",
    "    X_nn_list = []\n",
    "\n",
    "    for i in range(lag):\n",
    "        for j in range(i, lag):\n",
    "            element = X[:, i + 1] * X[:, j + 1]\n",
    "            element = np.vstack(element)\n",
    "            X_nn_list.append(element)\n",
    "\n",
    "    for i in range(lag):\n",
    "        for j in range(i, lag):\n",
    "            for k in range(j, lag):\n",
    "                element = X[:, i + 1] * X[:, j + 1] * X[:, k + 1]\n",
    "                element = np.vstack(element)\n",
    "                X_nn_list.append(element)\n",
    "\n",
    "    X_nn = np.concatenate(X_nn_list, axis=1)\n",
    "    X_nn = np.concatenate([X, X_nn], axis=1)\n",
    "    ols_nn = sm.OLS(u, X_nn).fit()\n",
    "\n",
    "    v = ols_nn.resid\n",
    "    ssr = (v**2).sum()\n",
    "\n",
    "    stat = size_x * np.log(ssr0 / ssr)\n",
    "\n",
    "    return stat"
   ]
  },
  {
   "cell_type": "code",
   "execution_count": null,
   "metadata": {},
   "outputs": [],
   "source": [
    "# |export\n",
    "def hurst_exponent(x: np.array) -> float:\n",
    "    \"\"\"Computes hurst exponent.\n",
    "\n",
    "    Parameters\n",
    "    ----------\n",
    "    x: numpy array\n",
    "        Time series.\n",
    "\n",
    "    References\n",
    "    ----------\n",
    "    [1] Taken from https://gist.github.com/alexvorndran/aad69fa741e579aad093608ccaab4fe1\n",
    "    [2] Based on https://codereview.stackexchange.com/questions/224360/hurst-exponent-calculator\n",
    "    \"\"\"\n",
    "    n = x.size  # num timesteps\n",
    "    t = np.arange(1, n + 1)\n",
    "    y = x.cumsum()  # marginally more efficient than: np.cumsum(sig)\n",
    "    mean_t = y / t  # running mean\n",
    "\n",
    "    s_t = np.sqrt(np.array([np.mean((x[: i + 1] - mean_t[i]) ** 2) for i in range(n)]))\n",
    "    r_t = np.array([np.ptp(y[: i + 1] - t[: i + 1] * mean_t[i]) for i in range(n)])\n",
    "\n",
    "    with np.errstate(invalid=\"ignore\"):\n",
    "        r_s = r_t / s_t\n",
    "\n",
    "    r_s = np.log(r_s)[1:]\n",
    "    n = np.log(t)[1:]\n",
    "    a = np.column_stack((n, np.ones(n.size)))\n",
    "    hurst_exponent, _ = np.linalg.lstsq(a, r_s, rcond=-1)[0]\n",
    "\n",
    "    return hurst_exponent"
   ]
  },
  {
   "cell_type": "code",
   "execution_count": null,
   "metadata": {},
   "outputs": [],
   "source": [
    "# |export\n",
    "def ur_pp(x: np.array) -> float:\n",
    "    \"\"\"Performs the Phillips and Perron unit root test.\n",
    "\n",
    "    Parameters\n",
    "    ----------\n",
    "    x: numpy array\n",
    "        Time series.\n",
    "\n",
    "    References\n",
    "    ----------\n",
    "    https://www.rdocumentation.org/packages/urca/versions/1.3-0/topics/ur.pp\n",
    "    \"\"\"\n",
    "    n = len(x)\n",
    "    lmax = 4 * (n / 100) ** (1 / 4)\n",
    "\n",
    "    lmax, _ = divmod(lmax, 1)\n",
    "    lmax = int(lmax)\n",
    "\n",
    "    y, y_l1 = x[1:], x[: n - 1]\n",
    "\n",
    "    n -= 1\n",
    "\n",
    "    y_l1 = sm.add_constant(y_l1)\n",
    "\n",
    "    model = sm.OLS(y, y_l1).fit()\n",
    "    my_tstat, res = model.tvalues[0], model.resid\n",
    "    s = 1 / (n * np.sum(res**2))\n",
    "    myybar = (1 / n**2) * (((y - y.mean()) ** 2).sum())\n",
    "    myy = (1 / n**2) * ((y**2).sum())\n",
    "    my = (n ** (-3 / 2)) * (y.sum())\n",
    "\n",
    "    idx = np.arange(lmax)\n",
    "    coprods = []\n",
    "    for i in idx:\n",
    "        first_del = res[i + 1 :]\n",
    "        sec_del = res[: n - i - 1]\n",
    "        prod = first_del * sec_del\n",
    "        coprods.append(prod.sum())\n",
    "    coprods = np.array(coprods)\n",
    "\n",
    "    weights = 1 - (idx + 1) / (lmax + 1)\n",
    "    sig = s + (2 / n) * ((weights * coprods).sum())\n",
    "    lambda_ = 0.5 * (sig - s)\n",
    "    lambda_prime = lambda_ / sig\n",
    "\n",
    "    alpha = model.params[1]\n",
    "\n",
    "    test_stat = n * (alpha - 1) - lambda_ / myybar\n",
    "\n",
    "    return test_stat"
   ]
  },
  {
   "cell_type": "code",
   "execution_count": null,
   "metadata": {},
   "outputs": [],
   "source": [
    "# |export\n",
    "def lambda_coef_var(lambda_par: float, x: np.array, period: int = 2):\n",
    "    \"\"\"Calculates coefficient of variation for subseries of x.\n",
    "\n",
    "    Parameters\n",
    "    ----------\n",
    "    lambda_par: float\n",
    "        Lambda Box-cox transformation parameter.\n",
    "        Must be greater than zero.\n",
    "    x: numpy array\n",
    "        Time series.\n",
    "    period: int\n",
    "        The length of each subseries (usually the length of seasonal period).\n",
    "\n",
    "    Returns\n",
    "    -------\n",
    "    float\n",
    "        Coefficient of variation.\n",
    "    \"\"\"\n",
    "    if len(np.unique(x)) == 1:\n",
    "        return 1\n",
    "\n",
    "    split_size = divmod(len(x) - 1, period)\n",
    "    split_size, _ = split_size\n",
    "\n",
    "    split = np.array_split(x, split_size)\n",
    "\n",
    "    mu_h = np.array([np.nanmean(sub) for sub in split])\n",
    "    sig_h = np.array([np.nanstd(sub, ddof=1) for sub in split])\n",
    "\n",
    "    rat = sig_h / mu_h ** (1 - lambda_par)\n",
    "\n",
    "    value = np.nanstd(rat, ddof=1) / np.nanmean(rat)\n",
    "\n",
    "    return value"
   ]
  },
  {
   "cell_type": "code",
   "execution_count": null,
   "metadata": {},
   "outputs": [],
   "source": [
    "# |export\n",
    "\n",
    "# fmt: off\n",
    "WWWusage = [88, 84, 85, 85, 84, 85, 83, 85, 88, 89, 91, 99, 104, 112, 126, 138, 146, 151, 150, 148, 147, 149, 143, 132, 131, 139, 147, 150, 148, 145, 140, 134, 131, 131, 129, 126, 126, 132, 137, 140, 142, 150, 159, 167, 170, 171, 172, 172, 174, 175, 172, 172, 174, 174, 169, 165, 156, 142, 131, 121, 112, 104, 102, 99, 99, 95, 88, 84, 84, 87, 89, 88, 85, 86, 89, 91, 91, 94, 101, 110, 121, 135, 145, 149, 156, 165, 171, 175, 177, 182, 193, 204, 208, 210, 215, 222, 228, 226, 222, 220,]\n",
    "\n",
    "USAccDeaths = [9007,8106,8928,9137,10017,10826,11317,10744,9713,9938,9161,8927,7750,6981,8038,8422,8714,9512,10120,9823,8743,9129,8710,8680,8162,7306,8124,7870,9387,9556,10093,9620,8285,8466,8160,8034,7717,7461,7767,7925,8623,8945,10078,9179,8037,8488,7874,8647,7792,6957,7726,8106,8890,9299,10625,9302,8314,8850,8265,8796,7836,6892,7791,8192,9115,9434,10484,9827,9110,9070,8633,9240,]\n",
    "\n",
    "# fmt: on"
   ]
  },
  {
   "cell_type": "code",
   "execution_count": null,
   "metadata": {},
   "outputs": [],
   "source": [
    "# |hide\n",
    "from nbdev.showdoc import *"
   ]
  },
  {
   "cell_type": "code",
   "execution_count": null,
   "metadata": {},
   "outputs": [],
   "source": [
    "# |hide\n",
    "import nbdev\n",
    "\n",
    "nbdev.nbdev_export()"
   ]
  }
 ],
 "metadata": {
  "kernelspec": {
   "display_name": "python3",
   "language": "python",
   "name": "python3"
  }
 },
 "nbformat": 4,
 "nbformat_minor": 4
}
